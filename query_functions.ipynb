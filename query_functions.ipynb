{
 "cells": [
  {
   "cell_type": "code",
   "execution_count": 10,
   "id": "f2ebc8e9-5d0d-4577-a2ed-011f28930fc9",
   "metadata": {},
   "outputs": [],
   "source": [
    "import mysql.connector as connector"
   ]
  },
  {
   "cell_type": "code",
   "execution_count": 11,
   "id": "8ae599de-ffb5-4623-95fd-cbc9edfebabf",
   "metadata": {},
   "outputs": [],
   "source": [
    "connection = connector.connect(user = \"root\", password = \"Oyinlomo99.\")"
   ]
  },
  {
   "cell_type": "code",
   "execution_count": 12,
   "id": "9d57a578-4d76-4558-9bb2-2f2cae07ac5a",
   "metadata": {},
   "outputs": [],
   "source": [
    "cursor = connection.cursor()\n",
    "cursor.execute(\"USE mydb\")"
   ]
  },
  {
   "cell_type": "code",
   "execution_count": 13,
   "id": "4e17035a-7e16-43d3-a2a0-29c1c958bd57",
   "metadata": {},
   "outputs": [
    {
     "name": "stdout",
     "output_type": "stream",
     "text": [
      "[('bookings',), ('customer',), ('delivery',), ('menu',), ('menuitems',), ('orders',), ('ordersview',), ('staff',)]\n"
     ]
    }
   ],
   "source": [
    "show_tables_query = \"SHOW tables\" \n",
    "cursor.execute(show_tables_query)\n",
    "results = cursor.fetchall()\n",
    "print(results)"
   ]
  },
  {
   "cell_type": "code",
   "execution_count": 21,
   "id": "692b7817-1d89-453f-b424-acff54edc1b8",
   "metadata": {},
   "outputs": [
    {
     "name": "stdout",
     "output_type": "stream",
     "text": [
      "(1, datetime.date(2022, 10, 10), 5, Decimal('100'), 2, 1, 2)\n",
      "(2, datetime.date(2022, 11, 12), 3, Decimal('30'), 1, 2, 3)\n",
      "(3, datetime.date(2022, 10, 10), 2, Decimal('200'), 2, 2, 3)\n"
     ]
    }
   ],
   "source": [
    "join_query = \"\"\"\n",
    "SELECT CustomerName,ContactDetails, orders.Cost FROM customer \n",
    "INNER JOIN bookings on customer.CustomerID = bookings.CustomerID\n",
    "INNER JOIN orders on bookings.BookingsID = orders.BookingID\n",
    "WHERE orders.Cost > 60\n",
    "\"\"\"\n",
    "cursor.execute(join_query)\n",
    "results = cursor.fetchall()\n",
    "for x in results:\n",
    "    print(x)"
   ]
  }
 ],
 "metadata": {
  "kernelspec": {
   "display_name": "Python 3 (ipykernel)",
   "language": "python",
   "name": "python3"
  },
  "language_info": {
   "codemirror_mode": {
    "name": "ipython",
    "version": 3
   },
   "file_extension": ".py",
   "mimetype": "text/x-python",
   "name": "python",
   "nbconvert_exporter": "python",
   "pygments_lexer": "ipython3",
   "version": "3.11.4"
  }
 },
 "nbformat": 4,
 "nbformat_minor": 5
}
